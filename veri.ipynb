{
 "cells": [
  {
   "cell_type": "code",
   "execution_count": 2,
   "metadata": {},
   "outputs": [
    {
     "name": "stdout",
     "output_type": "stream",
     "text": [
      "Veri seti oluşturuldu ve 'veri.csv' olarak kaydedildi!\n",
      "   Yas       Kilo Egzersiz_Turu  Sure  Kalori_Yakimi\n",
      "0   58  55.566553         Yuzme    41     227.822869\n",
      "1   32  56.976896          Kosu    96     656.373847\n",
      "2   52  54.346942      Bisiklet    14      60.868575\n",
      "3   19  54.684762       Yuruyus    74     202.333619\n",
      "4   56  51.326798       Yuruyus   101     259.200332\n"
     ]
    }
   ],
   "source": [
    "import pandas as pd\n",
    "import random\n",
    "\n",
    "# Egzersiz tipleri ve kalori yakım çarpanları\n",
    "egzersiz_turleri = {\n",
    "    \"Kosu\": 0.12,  # Her kilo için dakikada yakılan kalori\n",
    "    \"Yuruyus\": 0.05,\n",
    "    \"Yuzme\": 0.1,\n",
    "    \"Bisiklet\": 0.08,\n",
    "    \"Yoga\": 0.03\n",
    "}\n",
    "\n",
    "# Veri seti için rastgele veri oluşturma\n",
    "veri = []\n",
    "random.seed(42)\n",
    "\n",
    "for _ in range(1000):  # 1000 örnek oluşturulacak\n",
    "    yas = random.randint(18, 60)  # 18-60 yaş arasında rastgele bir değer\n",
    "    kilo = random.uniform(50, 100)  # 50-100 kg arasında rastgele bir değer\n",
    "    egzersiz = random.choice(list(egzersiz_turleri.keys()))  # Egzersiz türünü seç\n",
    "    sure = random.randint(10, 120)  # 10-120 dakika arasında egzersiz süresi\n",
    "\n",
    "    # Kalori yakımı hesaplama (kilo * çarpan * süre)\n",
    "    kalori = kilo * egzersiz_turleri[egzersiz] * sure\n",
    "\n",
    "    # Veri setine ekleme\n",
    "    veri.append([yas, kilo, egzersiz, sure, kalori])\n",
    "\n",
    "# DataFrame oluşturma\n",
    "df = pd.DataFrame(veri, columns=[\"Yas\", \"Kilo\", \"Egzersiz_Turu\", \"Sure\", \"Kalori_Yakimi\"])\n",
    "\n",
    "# CSV dosyasına kaydetme\n",
    "df.to_csv(\"veri.csv\", index=False)\n",
    "\n",
    "print(\"Veri seti oluşturuldu ve 'veri.csv' olarak kaydedildi!\")\n",
    "print(df.head())\n"
   ]
  },
  {
   "cell_type": "code",
   "execution_count": null,
   "metadata": {},
   "outputs": [],
   "source": []
  }
 ],
 "metadata": {
  "kernelspec": {
   "display_name": "base",
   "language": "python",
   "name": "python3"
  },
  "language_info": {
   "codemirror_mode": {
    "name": "ipython",
    "version": 3
   },
   "file_extension": ".py",
   "mimetype": "text/x-python",
   "name": "python",
   "nbconvert_exporter": "python",
   "pygments_lexer": "ipython3",
   "version": "3.12.7"
  }
 },
 "nbformat": 4,
 "nbformat_minor": 2
}
