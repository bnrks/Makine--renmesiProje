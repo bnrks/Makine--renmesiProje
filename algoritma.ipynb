{
 "cells": [
  {
   "cell_type": "code",
   "execution_count": 3,
   "metadata": {},
   "outputs": [
    {
     "name": "stdout",
     "output_type": "stream",
     "text": [
      "\n",
      "Model Comparison Results:\n",
      "------------------------\n",
      "                         RMSE\n",
      "LightGBM            18.263229\n",
      "Random Forest       24.387977\n",
      "GradientBoosting    25.780157\n",
      "Decision Tree       43.970859\n",
      "Lasso               90.671460\n",
      "Ridge               90.674233\n",
      "Linear Regression   90.730956\n",
      "ElasticNet         142.264490\n",
      "KNeighbors         202.622940\n",
      "SVR                241.455747\n",
      "\n",
      "Best Model: LightGBM\n",
      "Best RMSE: 18.2632\n"
     ]
    },
    {
     "data": {
      "text/plain": [
       "['eniyi.joblib']"
      ]
     },
     "execution_count": 3,
     "metadata": {},
     "output_type": "execute_result"
    }
   ],
   "source": [
    "import warnings\n",
    "import pandas as pd\n",
    "import numpy as np\n",
    "from sklearn.model_selection import train_test_split\n",
    "from sklearn.metrics import mean_squared_error\n",
    "from sklearn.linear_model import LinearRegression, Ridge, Lasso, ElasticNet\n",
    "from sklearn.tree import DecisionTreeRegressor\n",
    "from sklearn.ensemble import RandomForestRegressor, GradientBoostingRegressor\n",
    "from sklearn.svm import SVR\n",
    "from sklearn.neighbors import KNeighborsRegressor\n",
    "import lightgbm as lgb\n",
    "import joblib\n",
    "\n",
    "# Filter LightGBM warnings\n",
    "warnings.filterwarnings('ignore', category=UserWarning)\n",
    "\n",
    "# Load and prepare data\n",
    "data = pd.read_csv('veri.csv')\n",
    "X = pd.get_dummies(data[['Yas', 'Kilo', 'Egzersiz_Turu', 'Sure']], columns=['Egzersiz_Turu'])\n",
    "y = data['Kalori_Yakimi']\n",
    "X_train, X_test, y_train, y_test = train_test_split(X, y, test_size=0.2, random_state=42)\n",
    "\n",
    "# Define models\n",
    "models = {\n",
    "    'Linear Regression': LinearRegression(),\n",
    "    'Ridge': Ridge(),\n",
    "    'Lasso': Lasso(),\n",
    "    'ElasticNet': ElasticNet(),\n",
    "    'Decision Tree': DecisionTreeRegressor(random_state=42),\n",
    "    'Random Forest': RandomForestRegressor(random_state=42),\n",
    "    'SVR': SVR(),\n",
    "    'KNeighbors': KNeighborsRegressor(),\n",
    "    'GradientBoosting': GradientBoostingRegressor(random_state=42),\n",
    "    'LightGBM': lgb.LGBMRegressor(random_state=42, verbose=-1)\n",
    "}\n",
    "\n",
    "# Evaluate models\n",
    "results = {}\n",
    "best_rmse = float('inf')\n",
    "best_model = None\n",
    "\n",
    "for name, model in models.items():\n",
    "    model.fit(X_train, y_train)\n",
    "    y_pred = model.predict(X_test)\n",
    "    rmse = np.sqrt(mean_squared_error(y_test, y_pred))\n",
    "    results[name] = rmse\n",
    "    if rmse < best_rmse:\n",
    "        best_rmse = rmse\n",
    "        best_model = model\n",
    "\n",
    "# Show only comparison results\n",
    "results_df = pd.DataFrame.from_dict(results, orient='index', columns=['RMSE'])\n",
    "print(\"\\nModel Comparison Results:\")\n",
    "print(\"------------------------\")\n",
    "print(results_df.sort_values('RMSE').to_string())\n",
    "print(f\"\\nBest Model: {min(results, key=results.get)}\")\n",
    "print(f\"Best RMSE: {best_rmse:.4f}\")\n",
    "\n",
    "best_model.set_params(n_jobs=1)\n",
    "joblib.dump(best_model, 'eniyi.joblib')\n"
   ]
  }
 ],
 "metadata": {
  "kernelspec": {
   "display_name": "base",
   "language": "python",
   "name": "python3"
  },
  "language_info": {
   "codemirror_mode": {
    "name": "ipython",
    "version": 3
   },
   "file_extension": ".py",
   "mimetype": "text/x-python",
   "name": "python",
   "nbconvert_exporter": "python",
   "pygments_lexer": "ipython3",
   "version": "3.12.7"
  }
 },
 "nbformat": 4,
 "nbformat_minor": 2
}
